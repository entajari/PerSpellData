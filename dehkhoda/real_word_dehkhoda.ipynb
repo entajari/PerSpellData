{
 "cells": [
  {
   "cell_type": "code",
   "execution_count": 38,
   "id": "340abf57",
   "metadata": {},
   "outputs": [],
   "source": [
    "import re\n",
    "import pandas as pd"
   ]
  },
  {
   "cell_type": "code",
   "execution_count": 39,
   "id": "bfd40818",
   "metadata": {},
   "outputs": [],
   "source": [
    "data = open('dehkhoda.txt', 'r').read()"
   ]
  },
  {
   "cell_type": "code",
   "execution_count": 40,
   "id": "e35e252f",
   "metadata": {},
   "outputs": [],
   "source": [
    "parts=data.split(\"**\")"
   ]
  },
  {
   "cell_type": "code",
   "execution_count": 41,
   "id": "183d1bdc",
   "metadata": {},
   "outputs": [],
   "source": [
    "final_wrong_sentences = []\n",
    "final_correct_sentences = []"
   ]
  },
  {
   "cell_type": "code",
   "execution_count": 42,
   "id": "cb8b9fb0",
   "metadata": {},
   "outputs": [],
   "source": [
    "def find_number(text, c):\n",
    "    return re.findall(r'%s(\\d+)' % c, text)"
   ]
  },
  {
   "cell_type": "code",
   "execution_count": 43,
   "id": "80506c50",
   "metadata": {},
   "outputs": [],
   "source": [
    "for index in range(len(parts)):\n",
    "    sentences = parts[index].split(\"\\n\")\n",
    "    part_count = len(sentences)\n",
    "    correct_sentences = sentences[:]\n",
    "    wrong_sentences = sentences[:]\n",
    "    for index in range(1, part_count):\n",
    "        correct_sentences[index] = correct_sentences[index].replace(\"} \", \"}\")\n",
    "        wrong_sentences[index] = wrong_sentences[index].replace(\"} \", \"}\")\n",
    "        sentences[index] = sentences[index].replace(\"} \", \"}\")\n",
    "        wrong_words = []\n",
    "        correct_words = []\n",
    "        error_type = []\n",
    "        wrong_words = [item for item in re.findall(r'/(.*?)/', sentences[index])]\n",
    "        correct_words = [item for item in re.findall(r'{(.*?)}', sentences[index])]\n",
    "        error_type = [item for item in find_number(sentences[index], '}')]\n",
    "        reverse_error_type = error_type[:]\n",
    "        reverse_error_type.sort(reverse=True)\n",
    "        if len(wrong_words) != 0:\n",
    "            for wrong_word in wrong_words:\n",
    "                correct_sentences[index] = correct_sentences[index].replace(f'/{wrong_word}/', \"\")\n",
    "                wrong_sentences[index] = wrong_sentences[index].replace(f'/{wrong_word}/', wrong_word)\n",
    "            for correct_word in correct_words:\n",
    "                wrong_sentences[index] = wrong_sentences[index].replace(f\"{{{correct_word}\", \" \").strip()\n",
    "\n",
    "            for error_type in reverse_error_type:\n",
    "                correct_sentences[index] = correct_sentences[index].replace(\"{\", \" \").strip()\n",
    "                correct_sentences[index] = correct_sentences[index].replace(f\"}}{error_type}\", \" \")\n",
    "                wrong_sentences[index] = wrong_sentences[index].replace(f\"}}{error_type}\", \" \")\n",
    "            final_wrong_sentences.append(\" \".join(wrong_sentences[index].split()))\n",
    "            final_correct_sentences.append(\" \".join(correct_sentences[index].split()))\n",
    "\n"
   ]
  },
  {
   "cell_type": "code",
   "execution_count": 44,
   "id": "865c6f20",
   "metadata": {},
   "outputs": [
    {
     "name": "stdout",
     "output_type": "stream",
     "text": [
      "708\n",
      "708\n"
     ]
    }
   ],
   "source": [
    "print(len(final_wrong_sentences))\n",
    "print(len(final_correct_sentences))"
   ]
  },
  {
   "cell_type": "code",
   "execution_count": 46,
   "id": "e10e2f84",
   "metadata": {},
   "outputs": [],
   "source": [
    "df = pd.DataFrame(list(zip(final_correct_sentences, final_wrong_sentences)),\n",
    "                 columns =['correct', 'wrong'])"
   ]
  },
  {
   "cell_type": "code",
   "execution_count": 48,
   "id": "a7573942",
   "metadata": {},
   "outputs": [],
   "source": [
    "df.to_csv(\"dehkhoda_corpus.csv\")"
   ]
  },
  {
   "cell_type": "code",
   "execution_count": null,
   "id": "f805f7b5",
   "metadata": {},
   "outputs": [],
   "source": []
  }
 ],
 "metadata": {
  "kernelspec": {
   "display_name": "Python 3",
   "language": "python",
   "name": "python3"
  },
  "language_info": {
   "codemirror_mode": {
    "name": "ipython",
    "version": 3
   },
   "file_extension": ".py",
   "mimetype": "text/x-python",
   "name": "python",
   "nbconvert_exporter": "python",
   "pygments_lexer": "ipython3",
   "version": "3.8.8"
  }
 },
 "nbformat": 4,
 "nbformat_minor": 5
}
